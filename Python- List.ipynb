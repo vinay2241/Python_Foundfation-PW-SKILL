{
 "cells": [
  {
   "cell_type": "markdown",
   "id": "f0d28d79",
   "metadata": {},
   "source": [
    "<h4>Q1. Create an empty list</h4>"
   ]
  },
  {
   "cell_type": "code",
   "execution_count": 3,
   "id": "8b2a86de",
   "metadata": {},
   "outputs": [
    {
     "name": "stdout",
     "output_type": "stream",
     "text": [
      "<class 'list'>\n",
      "[]\n"
     ]
    }
   ],
   "source": [
    "# Creating an empty List\n",
    "mylist = []\n",
    "print(type(mylist))\n",
    "print(mylist)"
   ]
  },
  {
   "cell_type": "markdown",
   "id": "eed91148",
   "metadata": {},
   "source": [
    "<h4>Q2. Create a list and add an element to the end of this list.<h4/>   "
   ]
  },
  {
   "cell_type": "code",
   "execution_count": 40,
   "id": "f4575284",
   "metadata": {},
   "outputs": [
    {
     "name": "stdout",
     "output_type": "stream",
     "text": [
      "[1, 2, 3, 4]\n"
     ]
    }
   ],
   "source": [
    "# Adding the Element to the end of this list-mylist1\n",
    "mylist1 = [1,2,3]\n",
    "mylist1.append(4)\n",
    "print(mylist1)"
   ]
  },
  {
   "cell_type": "markdown",
   "id": "ffade697",
   "metadata": {},
   "source": [
    "<h4>Q3. For the above created list print the last element.<h4/>"
   ]
  },
  {
   "cell_type": "code",
   "execution_count": 41,
   "id": "888b64f7",
   "metadata": {},
   "outputs": [
    {
     "name": "stdout",
     "output_type": "stream",
     "text": [
      "[4]\n"
     ]
    }
   ],
   "source": [
    "# printing the Element of the last Element  \n",
    "print(mylist1[3:])"
   ]
  },
  {
   "cell_type": "markdown",
   "id": "21024917",
   "metadata": {},
   "source": [
    "<h4>Q4. Reverse the above created list.<h4/>"
   ]
  },
  {
   "cell_type": "code",
   "execution_count": 42,
   "id": "0cd861ad",
   "metadata": {},
   "outputs": [
    {
     "data": {
      "text/plain": [
       "[4, 3, 2, 1]"
      ]
     },
     "execution_count": 42,
     "metadata": {},
     "output_type": "execute_result"
    }
   ],
   "source": [
    "mylist1.reverse()\n",
    "mylist1"
   ]
  },
  {
   "cell_type": "markdown",
   "id": "074e4b03",
   "metadata": {},
   "source": [
    "<h4>Q5. Sort the above created list.<h4/>"
   ]
  },
  {
   "cell_type": "code",
   "execution_count": 43,
   "id": "e7c3d4b7",
   "metadata": {},
   "outputs": [
    {
     "data": {
      "text/plain": [
       "['Apple', 'Dress', 'Mehandi', 'Saree', 'Zoo']"
      ]
     },
     "execution_count": 43,
     "metadata": {},
     "output_type": "execute_result"
    }
   ],
   "source": [
    "mylist2 = [\"Apple\",\"Zoo\",\"Mehandi\",\"Dress\", \"Saree\"]\n",
    "mylist2.sort()\n",
    "mylist2"
   ]
  },
  {
   "cell_type": "markdown",
   "id": "e046b2a7",
   "metadata": {},
   "source": [
    "<h4>Q6. Create a list of your top three favorite movies, then print the second movie title.<h4/>"
   ]
  },
  {
   "cell_type": "code",
   "execution_count": 45,
   "id": "031a05c4",
   "metadata": {},
   "outputs": [
    {
     "data": {
      "text/plain": [
       "'Pathan'"
      ]
     },
     "execution_count": 45,
     "metadata": {},
     "output_type": "execute_result"
    }
   ],
   "source": [
    "mylist3 = [\"KGF\", \"Pathan\", \"Bhai-Jan\"]\n",
    "mylist3[1]"
   ]
  },
  {
   "cell_type": "markdown",
   "id": "3b8b0c2f",
   "metadata": {},
   "source": [
    "<h4>Q7. Create a list of your favorite animals, then add a new animal to the list and print the updated list.<h4/>"
   ]
  },
  {
   "cell_type": "code",
   "execution_count": 52,
   "id": "8f4d3754",
   "metadata": {},
   "outputs": [
    {
     "data": {
      "text/plain": [
       "['Monkey', 'Cow', 'Bafellow', 'Camel', 'Horse']"
      ]
     },
     "execution_count": 52,
     "metadata": {},
     "output_type": "execute_result"
    }
   ],
   "source": [
    "# Created the List of animal and inserted New Animal into te list at tge end of the list Using Insert_Method\n",
    "animal_list = [\"Monkey\", \"Cow\", \"Bafellow\", \"Camel\"]\n",
    "animal_list.insert(4,\"Horse\")\n",
    "animal_list                "
   ]
  },
  {
   "cell_type": "markdown",
   "id": "d89d282d",
   "metadata": {},
   "source": [
    "<h4>Q8. Create a list of your favorite cities, then use the index() method to find the position of a specific city\n",
    "on the list and print it.<h4/>"
   ]
  },
  {
   "cell_type": "code",
   "execution_count": 60,
   "id": "ce1945f2",
   "metadata": {},
   "outputs": [
    {
     "data": {
      "text/plain": [
       "2"
      ]
     },
     "execution_count": 60,
     "metadata": {},
     "output_type": "execute_result"
    }
   ],
   "source": [
    "# Creating the list of fav cities\n",
    "fav_cities = [\"New York\",\"Thai Land\",\"Qatar\",\"Loss Angles\"]\n",
    "# Printing the Index of the Elements in fav_cities list\n",
    "fav_cities.index(\"Qatar\")"
   ]
  },
  {
   "cell_type": "markdown",
   "id": "ed1595b4",
   "metadata": {},
   "source": [
    " <h1 style=\"text-align: center;\">End</h1>"
   ]
  }
 ],
 "metadata": {
  "kernelspec": {
   "display_name": "Python 3 (ipykernel)",
   "language": "python",
   "name": "python3"
  },
  "language_info": {
   "codemirror_mode": {
    "name": "ipython",
    "version": 3
   },
   "file_extension": ".py",
   "mimetype": "text/x-python",
   "name": "python",
   "nbconvert_exporter": "python",
   "pygments_lexer": "ipython3",
   "version": "3.10.11"
  }
 },
 "nbformat": 4,
 "nbformat_minor": 5
}
