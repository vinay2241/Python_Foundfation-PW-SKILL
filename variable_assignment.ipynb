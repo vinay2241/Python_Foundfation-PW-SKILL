{
 "cells": [
  {
   "cell_type": "code",
   "execution_count": 1,
   "id": "ee60e04d-45b8-491a-acbe-927cc3d7dd99",
   "metadata": {},
   "outputs": [],
   "source": [
    "_=\"variable\""
   ]
  },
  {
   "cell_type": "code",
   "execution_count": 3,
   "id": "9cd27ffe-38f1-443b-a06a-16ef25078f85",
   "metadata": {},
   "outputs": [
    {
     "data": {
      "text/plain": [
       "'variable'"
      ]
     },
     "execution_count": 3,
     "metadata": {},
     "output_type": "execute_result"
    }
   ],
   "source": [
    "_\n"
   ]
  },
  {
   "cell_type": "code",
   "execution_count": 4,
   "id": "2effc5df-6e60-46c0-b128-b24a701a3329",
   "metadata": {},
   "outputs": [
    {
     "name": "stdout",
     "output_type": "stream",
     "text": [
      "variable\n"
     ]
    }
   ],
   "source": [
    "print(_)"
   ]
  },
  {
   "cell_type": "code",
   "execution_count": null,
   "id": "33b48dee-41d6-42aa-888c-7cc71b6deff6",
   "metadata": {},
   "outputs": [],
   "source": [
    "x=5"
   ]
  },
  {
   "cell_type": "code",
   "execution_count": null,
   "id": "c4156a5d-dae5-45f4-b3ef-404655fe0007",
   "metadata": {},
   "outputs": [],
   "source": [
    "# Q5. Using an example, explain how the variables in python are dynamic in nature. "
   ]
  },
  {
   "cell_type": "code",
   "execution_count": 7,
   "id": "cf81d902-a7c3-4b04-bb24-5ea94ec94b4a",
   "metadata": {},
   "outputs": [
    {
     "name": "stdout",
     "output_type": "stream",
     "text": [
      "5\n",
      "<class 'int'>\n"
     ]
    }
   ],
   "source": [
    "print(x)\n",
    "print(type(x))"
   ]
  },
  {
   "cell_type": "code",
   "execution_count": 10,
   "id": "23da393e-b1df-46f6-b9e5-e7bf3cc8e7c3",
   "metadata": {},
   "outputs": [
    {
     "name": "stdout",
     "output_type": "stream",
     "text": [
      "Python\n",
      "<class 'str'>\n"
     ]
    }
   ],
   "source": [
    "x = \"Python\"\n",
    "print(x)\n",
    "print(type(x))"
   ]
  },
  {
   "cell_type": "code",
   "execution_count": null,
   "id": "13fab9ce-eb48-46e0-9153-1eb04629173c",
   "metadata": {},
   "outputs": [],
   "source": []
  }
 ],
 "metadata": {
  "kernelspec": {
   "display_name": "Python 3 (ipykernel)",
   "language": "python",
   "name": "python3"
  },
  "language_info": {
   "codemirror_mode": {
    "name": "ipython",
    "version": 3
   },
   "file_extension": ".py",
   "mimetype": "text/x-python",
   "name": "python",
   "nbconvert_exporter": "python",
   "pygments_lexer": "ipython3",
   "version": "3.10.8"
  }
 },
 "nbformat": 4,
 "nbformat_minor": 5
}
