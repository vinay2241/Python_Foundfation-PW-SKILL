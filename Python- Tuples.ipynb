{
 "cells": [
  {
   "cell_type": "markdown",
   "id": "ec9d247e",
   "metadata": {},
   "source": [
    "*Q1. What is a tuple in Python?* <br>\n",
    "   - A tuple in Python is an ordered.\n",
    "   - Immutable sequence of elements. \n",
    "   - Once a tuple is created, it cannot be modified.  \n",
    "   - Tuples are used to store related pieces of information that should not be changed throughout the program.\n",
    "    "
   ]
  },
  {
   "cell_type": "markdown",
   "id": "2cc575a1",
   "metadata": {},
   "source": [
    " *Q2. How do you create a tuple in Python?* <br>\n",
    " - Creating thr list is easy i.e Listing the Elements in inside the paranthesis separated by the commas."
   ]
  },
  {
   "cell_type": "markdown",
   "id": "e6187047",
   "metadata": {},
   "source": [
    "Q3. What is the difference between a tuple and a list in Python?\n",
    " - Tuples are immutable while Lists are mutable.\n",
    " - Tuples use less memory than lists."
   ]
  },
  {
   "cell_type": "markdown",
   "id": "2c66512f",
   "metadata": {},
   "source": [
    " *Q4. Can a tuple be changed in Python?* <br>\n",
    "\n",
    "- No, a tuple cannot be changed in Python once it is created. This is because tuples are immutable.\n",
    "- Attempts to Chsnging the Tuple in Python Throughs \"TypeError\"."
   ]
  },
  {
   "cell_type": "markdown",
   "id": "f9cdac7b",
   "metadata": {},
   "source": [
    "*Q5. How do you access elements in a tuple?*<br>\n",
    "- We acn access the Elements the tuple by Indexing [Either positive Indexing or Negative Indexing].\n"
   ]
  },
  {
   "cell_type": "code",
   "execution_count": 12,
   "id": "c6ba9ada",
   "metadata": {},
   "outputs": [
    {
     "data": {
      "text/plain": [
       "'India'"
      ]
     },
     "execution_count": 12,
     "metadata": {},
     "output_type": "execute_result"
    }
   ],
   "source": [
    "# Example for Elements of Tuple Accessing is:\n",
    "my_tuple = (1,2,3,4,\"India\",\"Karnataka\")\n",
    "my_tuple[4]\n"
   ]
  },
  {
   "cell_type": "code",
   "execution_count": 13,
   "id": "9e8f9237",
   "metadata": {},
   "outputs": [
    {
     "data": {
      "text/plain": [
       "'Karnataka'"
      ]
     },
     "execution_count": 13,
     "metadata": {},
     "output_type": "execute_result"
    }
   ],
   "source": [
    "# Negative Indexing is :\n",
    "my_tuple[-1]"
   ]
  },
  {
   "cell_type": "markdown",
   "id": "228c48cb",
   "metadata": {},
   "source": [
    "*Q6. How do you unpack a tuple in Python?*<br>\n",
    "- We can unpack a tuple in Python by assigning its elements to multiple variables at once. \n",
    "- For example, if you have a tuple with three elements, you can unpack it like this:\n",
    "\n",
    "\n",
    "\n"
   ]
  },
  {
   "cell_type": "code",
   "execution_count": 17,
   "id": "31773332",
   "metadata": {},
   "outputs": [],
   "source": [
    "# Example for unpacking the tuple in the Python:\n",
    "my_tuple = (1, 2, 3)\n",
    "a, b, c = my_tuple"
   ]
  },
  {
   "cell_type": "code",
   "execution_count": 18,
   "id": "f3681253",
   "metadata": {},
   "outputs": [
    {
     "data": {
      "text/plain": [
       "1"
      ]
     },
     "execution_count": 18,
     "metadata": {},
     "output_type": "execute_result"
    }
   ],
   "source": [
    "a"
   ]
  },
  {
   "cell_type": "code",
   "execution_count": 19,
   "id": "aee66135",
   "metadata": {},
   "outputs": [
    {
     "data": {
      "text/plain": [
       "2"
      ]
     },
     "execution_count": 19,
     "metadata": {},
     "output_type": "execute_result"
    }
   ],
   "source": [
    "b"
   ]
  },
  {
   "cell_type": "code",
   "execution_count": 20,
   "id": "9275e510",
   "metadata": {},
   "outputs": [
    {
     "data": {
      "text/plain": [
       "3"
      ]
     },
     "execution_count": 20,
     "metadata": {},
     "output_type": "execute_result"
    }
   ],
   "source": [
    "c"
   ]
  }
 ],
 "metadata": {
  "kernelspec": {
   "display_name": "Python 3 (ipykernel)",
   "language": "python",
   "name": "python3"
  },
  "language_info": {
   "codemirror_mode": {
    "name": "ipython",
    "version": 3
   },
   "file_extension": ".py",
   "mimetype": "text/x-python",
   "name": "python",
   "nbconvert_exporter": "python",
   "pygments_lexer": "ipython3",
   "version": "3.10.11"
  }
 },
 "nbformat": 4,
 "nbformat_minor": 5
}
