{
 "cells": [
  {
   "cell_type": "markdown",
   "id": "a68e6f29",
   "metadata": {},
   "source": [
    "Q1. What is a set in Python?\n",
    "Q2.How do you create a set in Python?\n",
    "Q3. How do you add elements to a set in Python?\n",
    "Q5. How do you get the length of a set in Python?"
   ]
  },
  {
   "cell_type": "markdown",
   "id": "c8cbeeef",
   "metadata": {},
   "source": [
    "*Q1. What is a set in Python?*<br>\n",
    "- A set in Python is an unordered collection of unique elements. \n",
    "- It is defined by enclosing a comma-separated list of values within curly braces {} or by using the set() function. \n",
    "- Sets are mutable, which means you can add or remove elements from them."
   ]
  },
  {
   "cell_type": "markdown",
   "id": "821e8e75",
   "metadata": {},
   "source": [
    "*Q2.How do you create a set in Python?*<br>\n",
    "- It is defined by enclosing a comma-separated list of values within curly braces {} or by using the set() function. \n"
   ]
  },
  {
   "cell_type": "code",
   "execution_count": 4,
   "id": "230d51ba",
   "metadata": {},
   "outputs": [
    {
     "name": "stdout",
     "output_type": "stream",
     "text": [
      "<class 'set'>\n"
     ]
    },
    {
     "data": {
      "text/plain": [
       "{'Chandra', 'Krishna', 'Rama'}"
      ]
     },
     "execution_count": 4,
     "metadata": {},
     "output_type": "execute_result"
    }
   ],
   "source": [
    "my_set = {\"Rama\", \"Krishna\",\"Chandra\"}\n",
    "print(type(my_set))\n",
    "my_set"
   ]
  },
  {
   "cell_type": "markdown",
   "id": "8a318661",
   "metadata": {},
   "source": [
    "*Q3. How do you add elements to a set in Python?*<br>\n",
    "- We can add elements to a set in Python using the add() method or the update() method."
   ]
  },
  {
   "cell_type": "markdown",
   "id": "ab29a765",
   "metadata": {},
   "source": [
    "*Q4. How do you remove elements from a set in Python?*<br>\n",
    "- We can remove elements from a set in Python using the remove() method or the discard() method."
   ]
  },
  {
   "cell_type": "markdown",
   "id": "7a00a8f9",
   "metadata": {},
   "source": [
    "*Q5. How do you get the length of a set in Python?*<br>\n",
    "- Using the len() function we can Get the lenght of the set"
   ]
  }
 ],
 "metadata": {
  "kernelspec": {
   "display_name": "Python 3 (ipykernel)",
   "language": "python",
   "name": "python3"
  },
  "language_info": {
   "codemirror_mode": {
    "name": "ipython",
    "version": 3
   },
   "file_extension": ".py",
   "mimetype": "text/x-python",
   "name": "python",
   "nbconvert_exporter": "python",
   "pygments_lexer": "ipython3",
   "version": "3.10.11"
  }
 },
 "nbformat": 4,
 "nbformat_minor": 5
}
