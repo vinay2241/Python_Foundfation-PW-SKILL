{
 "cells": [
  {
   "cell_type": "markdown",
   "id": "a7a42280",
   "metadata": {},
   "source": [
    "*Q1. What is the syntax for adding an element to a list in Python?*<br>\n",
    "- The append() method adds an element to the end of the list, \n",
    "- while the insert() method adds an element at a specific position in the list."
   ]
  },
  {
   "cell_type": "markdown",
   "id": "c8ec1cbd",
   "metadata": {},
   "source": [
    "*Q2. What is the difference between remove() and pop() functions in Python?*<br>\n",
    "- Difference between remove() and pop() is that \n",
    "- remove() removes a specified element by value, \n",
    "- while pop() removes an element by index and returns the removed element.\n"
   ]
  },
  {
   "cell_type": "code",
   "execution_count": 12,
   "id": "1730a2ae",
   "metadata": {},
   "outputs": [
    {
     "data": {
      "text/plain": [
       "[9, 8, 7, 6, 5, 5, 4, 3, 2, 1, 0]"
      ]
     },
     "execution_count": 12,
     "metadata": {},
     "output_type": "execute_result"
    }
   ],
   "source": [
    "# Q3. Write a Python code to sort a list in descending order.\n",
    "\n",
    "my_list = [1,5,9,7,5,3,4,6,2,8,0]\n",
    "my_list.sort(reverse = True)\n",
    "my_list"
   ]
  },
  {
   "cell_type": "code",
   "execution_count": 3,
   "id": "d2855afb",
   "metadata": {},
   "outputs": [
    {
     "data": {
      "text/plain": [
       "2"
      ]
     },
     "execution_count": 3,
     "metadata": {},
     "output_type": "execute_result"
    }
   ],
   "source": [
    "# Q4. Write a Python code to count the number of occurrences of an element in a list.\n",
    "\n",
    "mylist = [1,2,4,1,\"India\",\"Pw skill\", \"India\"]\n",
    "mylist.count(\"India\")\n"
   ]
  },
  {
   "cell_type": "code",
   "execution_count": 5,
   "id": "70ee8254",
   "metadata": {},
   "outputs": [
    {
     "data": {
      "text/plain": [
       "[9, 8, 7, 6, 5, 4, 3, 2, 1, 0]"
      ]
     },
     "execution_count": 5,
     "metadata": {},
     "output_type": "execute_result"
    }
   ],
   "source": [
    "# Q5. Write a Python code to reverse a list.\n",
    "\n",
    "mylist1 = [0,1,2,3,4,5,6,7,8,9]\n",
    "mylist1.reverse()\n",
    "mylist1"
   ]
  }
 ],
 "metadata": {
  "kernelspec": {
   "display_name": "Python 3 (ipykernel)",
   "language": "python",
   "name": "python3"
  },
  "language_info": {
   "codemirror_mode": {
    "name": "ipython",
    "version": 3
   },
   "file_extension": ".py",
   "mimetype": "text/x-python",
   "name": "python",
   "nbconvert_exporter": "python",
   "pygments_lexer": "ipython3",
   "version": "3.10.11"
  }
 },
 "nbformat": 4,
 "nbformat_minor": 5
}
